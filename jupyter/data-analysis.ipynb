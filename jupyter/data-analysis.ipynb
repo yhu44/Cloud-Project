{
 "cells": [
  {
   "cell_type": "markdown",
   "metadata": {},
   "source": [
    "Notebook for graphing results from our tests\n",
    "\n",
    "Cloud Computing Final Project\n",
    "Spring 2020\n",
    "Julian White, Darian Low, Yidong Hu"
   ]
  },
  {
   "cell_type": "code",
   "execution_count": 1,
   "metadata": {},
   "outputs": [
    {
     "data": {
      "image/png": "[encoded data removed]",
      "text/plain": [
       "<Figure size 432x288 with 1 Axes>"
      ]
     },
     "metadata": {
      "needs_background": "light"
     },
     "output_type": "display_data"
    }
   ],
   "source": [
    "# Plotting average bandwidth for fattree topologies with fanouts of 2, 3, 4, and 5 \n",
    "import os, os.path\n",
    "%matplotlib inline\n",
    "import matplotlib.pyplot as plt\n",
    "\n",
    "DIR = '../fattree-logs/'\n",
    "fanouts = [2, 3, 4, 5, 6]\n",
    "fanout_list = [\"fanout-2\",\"fanout-3\", \"fanout-4\", \"fanout-5\", \"fanout-6\"]\n",
    "\n",
    "BW = 0.0\n",
    "fanout_avg_BW = []\n",
    "\n",
    "for fanout in fanout_list:\n",
    "    fanout_total = 0\n",
    "    fanout_count = 0\n",
    "\n",
    "    logs = [name for name in os.listdir(DIR + fanout) if os.path.isfile(os.path.join(DIR + fanout, name))]\n",
    "\n",
    "    for log in logs:\n",
    "        with open(DIR + fanout + \"/\" + log) as file:\n",
    "            lines = file.readlines()\n",
    "            log_total_BW = 0\n",
    "            BW = 0\n",
    "            count = 0\n",
    "            data_start = False\n",
    "            for line in lines:\n",
    "                # find start of data\n",
    "                if \"Interval\" in line:\n",
    "                    data_start = True\n",
    "                    continue\n",
    "\n",
    "                # take BW from data\n",
    "                if data_start == True:\n",
    "                    line_split = line.split(\"  \")\n",
    "                    BW_score = line_split[-1]\n",
    "                    BW_split = BW_score.split(\" \")\n",
    "                    BW = float(BW_split[-2])\n",
    "\n",
    "                    if \"Gbits\" in BW_split[-1]:\n",
    "                        BW *= 1000\n",
    "\n",
    "                    last_BW = BW\n",
    "                    log_total_BW += last_BW\n",
    "                    count+=1\n",
    "\n",
    "            log_total_BW -= last_BW\n",
    "            if count > 0:\n",
    "                fanout_total += log_total_BW\n",
    "                fanout_count += count\n",
    "\n",
    "    fanout_avg_BW.append(fanout_total/ fanout_count)\n",
    "\n",
    "plt.plot(fanouts,fanout_avg_BW)\n",
    "plt.xlabel('Fanout Size')\n",
    "plt.title('Average Bandwith for Fattree Topology with Increasing Fanout')\n",
    "plt.ylabel('Average Bandwidth (MBits/Sec)')\n",
    "plt.show()\n"
   ]
  },
  {
   "cell_type": "code",
   "execution_count": null,
   "metadata": {},
   "outputs": [],
   "source": []
  },
  {
   "cell_type": "code",
   "execution_count": null,
   "metadata": {},
   "outputs": [],
   "source": []
  }
 ],
 "metadata": {
  "kernelspec": {
   "display_name": "Python 3",
   "language": "python",
   "name": "python3"
  },
  "language_info": {
   "codemirror_mode": {
    "name": "ipython",
    "version": 3
   },
   "file_extension": ".py",
   "mimetype": "text/x-python",
   "name": "python",
   "nbconvert_exporter": "python",
   "pygments_lexer": "ipython3",
   "version": "3.5.2"
  }
 },
 "nbformat": 4,
 "nbformat_minor": 2
}
